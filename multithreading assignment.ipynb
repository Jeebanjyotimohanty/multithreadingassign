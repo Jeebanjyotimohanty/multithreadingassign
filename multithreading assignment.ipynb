{
 "cells": [
  {
   "cell_type": "code",
   "execution_count": 1,
   "id": "7d423aa7-433c-425f-b961-d6fe8af3b7e4",
   "metadata": {},
   "outputs": [
    {
     "data": {
      "text/plain": [
       "'\\n1)multithreading:-It is when when a program creates multiple threads with execution cycling among them, so one longer-running task doesn’t block all the others. This works well for tasks that can be broken down into smaller subtasks, which can then each be given to a thread to be completed.\\nthreading module is used to handle thread\\n'"
      ]
     },
     "execution_count": 1,
     "metadata": {},
     "output_type": "execute_result"
    }
   ],
   "source": [
    "\"\"\"\n",
    "1)multithreading:-It is when when a program creates multiple threads with execution cycling among them, so one longer-running task doesn’t block all the others. This works well for tasks that can be broken down into smaller subtasks, which can then each be given to a thread to be completed.\n",
    "threading module is used to handle thread\n",
    "\"\"\""
   ]
  },
  {
   "cell_type": "code",
   "execution_count": 2,
   "id": "a03f8927-db9c-4bee-879d-598d3362aba8",
   "metadata": {},
   "outputs": [
    {
     "data": {
      "text/plain": [
       "\"\\n1)activecount():-returns the number of thread objects that are rnning\\n2)currentThread:-return the current Thread object, which corresponds to the caller's thread of control.\\n3)enumerate:-adds a counter to an iterable and returns it in a form of enumerating object\\n\""
      ]
     },
     "execution_count": 2,
     "metadata": {},
     "output_type": "execute_result"
    }
   ],
   "source": [
    "#2)multithreading is used beacause  Multithreaded programs can run faster on computer systems with multiple CPUs, because theses threads can be executed truly concurrent.\n",
    "\"\"\"\n",
    "1)activecount():-returns the number of thread objects that are rnning\n",
    "2)currentThread:-return the current Thread object, which corresponds to the caller's thread of control.\n",
    "3)enumerate:-adds a counter to an iterable and returns it in a form of enumerating object\n",
    "\"\"\""
   ]
  },
  {
   "cell_type": "code",
   "execution_count": 3,
   "id": "0fdf4156-b63a-4dba-ad34-ac4f8c93e0f4",
   "metadata": {},
   "outputs": [
    {
     "data": {
      "text/plain": [
       "'\\n1)run():-run any keyword you want\\n2)start():-it tells you the index of the starting position of the match\\n4)join():-takes all the elements of an iterable and joins them into a single string\\n5)isAlive:-checks whether a thread is alive or not, ie, it is still running or not\\n\\n'"
      ]
     },
     "execution_count": 3,
     "metadata": {},
     "output_type": "execute_result"
    }
   ],
   "source": [
    "#3)\n",
    "\"\"\"\n",
    "1)run():-run any keyword you want\n",
    "2)start():-it tells you the index of the starting position of the match\n",
    "4)join():-takes all the elements of an iterable and joins them into a single string\n",
    "5)isAlive:-checks whether a thread is alive or not, ie, it is still running or not\n",
    "\n",
    "\"\"\""
   ]
  },
  {
   "cell_type": "code",
   "execution_count": 13,
   "id": "9ea09cf5-e1f1-40aa-9a3e-2c99054b9b93",
   "metadata": {},
   "outputs": [],
   "source": [
    "#4)\n",
    "import time\n",
    "import logging\n",
    "logging.basicConfig(filename=\"sqrcube.log\" , level=logging.INFO)\n",
    "try:\n",
    "    def sqr(id):\n",
    "        sqr=[]\n",
    "        for i in range(5):\n",
    "            a=i*i\n",
    "            sqr.append(a)\n",
    "        return logging.info(\"{i} the square of numbers is {sq} \".format(i=id,sq=sqr))\n",
    "        #time.sleep(1)\n",
    "    def cube(id):\n",
    "        cub=[]\n",
    "        for i in range(5):\n",
    "            b=i**3\n",
    "            cub.append(b)\n",
    "        return logging.info(\"{i} the square of numbers is {sq} \".format(i=id,sq=cub))\n",
    "                \n",
    "except Exception as e:\n",
    "    \n",
    "    logging.info(\"Here error is {}\".format(e))"
   ]
  },
  {
   "cell_type": "code",
   "execution_count": 14,
   "id": "410f79d7-82f6-4ef6-a375-6f5af7cb859d",
   "metadata": {},
   "outputs": [],
   "source": [
    "import threading"
   ]
  },
  {
   "cell_type": "code",
   "execution_count": 10,
   "id": "1ce80b40-02ef-4f70-aa50-557a039f3d88",
   "metadata": {},
   "outputs": [],
   "source": [
    "thread1=[threading.Thread(target=sqr,args=(i,))for i in range(5)]\n"
   ]
  },
  {
   "cell_type": "code",
   "execution_count": 11,
   "id": "c1cd8c2d-61b7-429e-b324-51a0f2b1d559",
   "metadata": {},
   "outputs": [],
   "source": [
    "for t1 in thread1:\n",
    "    t1.start()"
   ]
  },
  {
   "cell_type": "code",
   "execution_count": 12,
   "id": "7dc51d38-3e1c-467a-b743-8e94dd4b999e",
   "metadata": {},
   "outputs": [
    {
     "ename": "NameError",
     "evalue": "name 'thrading' is not defined",
     "output_type": "error",
     "traceback": [
      "\u001b[0;31m---------------------------------------------------------------------------\u001b[0m",
      "\u001b[0;31mNameError\u001b[0m                                 Traceback (most recent call last)",
      "Cell \u001b[0;32mIn[12], line 1\u001b[0m\n\u001b[0;32m----> 1\u001b[0m thread2\u001b[38;5;241m=\u001b[39m[thrading\u001b[38;5;241m.\u001b[39mThread(target\u001b[38;5;241m=\u001b[39mcube,args\u001b[38;5;241m=\u001b[39m(i,))\u001b[38;5;28;01mfor\u001b[39;00m i \u001b[38;5;129;01min\u001b[39;00m \u001b[38;5;28mrange\u001b[39m(\u001b[38;5;241m5\u001b[39m)]\n",
      "Cell \u001b[0;32mIn[12], line 1\u001b[0m, in \u001b[0;36m<listcomp>\u001b[0;34m(.0)\u001b[0m\n\u001b[0;32m----> 1\u001b[0m thread2\u001b[38;5;241m=\u001b[39m[\u001b[43mthrading\u001b[49m\u001b[38;5;241m.\u001b[39mThread(target\u001b[38;5;241m=\u001b[39mcube,args\u001b[38;5;241m=\u001b[39m(i,))\u001b[38;5;28;01mfor\u001b[39;00m i \u001b[38;5;129;01min\u001b[39;00m \u001b[38;5;28mrange\u001b[39m(\u001b[38;5;241m5\u001b[39m)]\n",
      "\u001b[0;31mNameError\u001b[0m: name 'thrading' is not defined"
     ]
    }
   ],
   "source": [
    "thread2=[thrading.Thread(target=cube,args=(i,))for i in range(5)]"
   ]
  },
  {
   "cell_type": "code",
   "execution_count": null,
   "id": "cb717e56-b07d-4da7-8762-99e308d8cede",
   "metadata": {},
   "outputs": [],
   "source": []
  }
 ],
 "metadata": {
  "kernelspec": {
   "display_name": "Python 3 (ipykernel)",
   "language": "python",
   "name": "python3"
  },
  "language_info": {
   "codemirror_mode": {
    "name": "ipython",
    "version": 3
   },
   "file_extension": ".py",
   "mimetype": "text/x-python",
   "name": "python",
   "nbconvert_exporter": "python",
   "pygments_lexer": "ipython3",
   "version": "3.10.8"
  }
 },
 "nbformat": 4,
 "nbformat_minor": 5
}
